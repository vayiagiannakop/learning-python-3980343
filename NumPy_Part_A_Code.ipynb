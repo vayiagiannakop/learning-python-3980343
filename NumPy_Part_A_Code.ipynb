{
  "nbformat": 4,
  "nbformat_minor": 0,
  "metadata": {
    "colab": {
      "provenance": [],
      "include_colab_link": true
    },
    "kernelspec": {
      "name": "python3",
      "display_name": "Python 3"
    },
    "language_info": {
      "name": "python"
    }
  },
  "cells": [
    {
      "cell_type": "markdown",
      "metadata": {
        "id": "view-in-github",
        "colab_type": "text"
      },
      "source": [
        "<a href=\"https://colab.research.google.com/github/vayiagiannakop/learning-python-3980343/blob/main/NumPy_Part_A_Code.ipynb\" target=\"_parent\"><img src=\"https://colab.research.google.com/assets/colab-badge.svg\" alt=\"Open In Colab\"/></a>"
      ]
    },
    {
      "cell_type": "markdown",
      "source": [
        "**Δημιουγία Πινάκων NumPy**\n",
        "\n",
        "\n",
        "**Πίνακας 1D**"
      ],
      "metadata": {
        "id": "AV8Swc_7RGjk"
      }
    },
    {
      "cell_type": "code",
      "execution_count": null,
      "metadata": {
        "id": "vlXYz_nuKjAF"
      },
      "outputs": [],
      "source": [
        "import numpy as np\n",
        "numbers = np.array([34, 33, 29, 28, 27])\n",
        "print(numbers)"
      ]
    },
    {
      "cell_type": "markdown",
      "source": [
        "**Παράδειγμα**"
      ],
      "metadata": {
        "id": "4BUyLGO9RFUr"
      }
    },
    {
      "cell_type": "code",
      "source": [
        "import numpy as np\n",
        "weights = np.array([75, 68, 82, 70, 77])\n",
        "print(numbers)"
      ],
      "metadata": {
        "id": "s-1IeBVXR8-x"
      },
      "execution_count": null,
      "outputs": []
    },
    {
      "cell_type": "markdown",
      "source": [
        "***Φτιάξτε ένα δικό σας παράδειγμα!***"
      ],
      "metadata": {
        "id": "3S_kTEBxSGRz"
      }
    },
    {
      "cell_type": "code",
      "source": [
        "#Αναμένω να προσθέσετε κώδικα!\n"
      ],
      "metadata": {
        "id": "z8f7r_POUwHc"
      },
      "execution_count": null,
      "outputs": []
    },
    {
      "cell_type": "markdown",
      "source": [
        "**Δημιουργία Πινάκων NumPy**\n",
        "\n",
        "\n",
        "---\n",
        "\n",
        "\n",
        "\n",
        "**Πίνακας 2D**"
      ],
      "metadata": {
        "id": "RZRTBQpWSUOw"
      }
    },
    {
      "cell_type": "markdown",
      "source": [
        "Δισδιάστατος πίνακας όπου οι γραμμές αντιπροσωπεύουν διαφορετικά άτομα και οι στήλες αντιπροσωπεύουν διαφορετικές μετρήσεις (ύψος, βάρος)"
      ],
      "metadata": {
        "id": "lFvRftKwSijH"
      }
    },
    {
      "cell_type": "markdown",
      "source": [
        "Τι λέτε να χρειάζεται να προσθέσουμε στον παρακάτω κώδικα;\n",
        "\n",
        "\n"
      ],
      "metadata": {
        "id": "nJKDJnb_SnqL"
      }
    },
    {
      "cell_type": "code",
      "source": [
        "measurements = np.array([[185, 75], [170, 68], [192, 82], [178, 70], [175, 77]])"
      ],
      "metadata": {
        "id": "_0mWwmcuSl_j"
      },
      "execution_count": null,
      "outputs": []
    },
    {
      "cell_type": "markdown",
      "source": [
        "**Δημιουγία Πινάκων NumPy**\n",
        "\n",
        "\n",
        "---\n",
        "\n",
        "\n",
        "\n",
        "**Τρισδιάστατος Πίνακας (tensor) 3D**"
      ],
      "metadata": {
        "id": "HMbKcMrAS5R8"
      }
    },
    {
      "cell_type": "code",
      "source": [
        "import numpy as np\n",
        "tensor = np.array([[[1, 2], [3, 4]], [[5, 6], [7, 8]]])\n",
        "print(tensor)"
      ],
      "metadata": {
        "id": "18aPPk1nTIcE"
      },
      "execution_count": null,
      "outputs": []
    },
    {
      "cell_type": "markdown",
      "source": [
        "**Παράδειγμα πίνακα 3D**"
      ],
      "metadata": {
        "id": "YqynfpnwTfYg"
      }
    },
    {
      "cell_type": "code",
      "source": [
        "import numpy as np\n",
        "group_measurements = np.array([[[185, 75], [170, 68], [192, 82], [178, 70], [175, 77]], [[180, 72], [176, 78], [182, 80], [174, 72], [177, 69]], [[188, 78], [180, 71], [182, 75], [179, 73], [176, 70]]])\n",
        "print(group_measurements)"
      ],
      "metadata": {
        "id": "ljVZQovPTiIx"
      },
      "execution_count": null,
      "outputs": []
    },
    {
      "cell_type": "markdown",
      "source": [
        "**Ειδικοί Πίνακες**"
      ],
      "metadata": {
        "id": "JnUE3IWhTyCJ"
      }
    },
    {
      "cell_type": "code",
      "source": [
        "import numpy as np\n",
        "zeros = np.zeros((3, 3))\n",
        "print(\"Zeros:\\n\", zeros)\n",
        "ones = np.ones((3, 3))\n",
        "print(\"\\nOnes:\\n\", ones)\n",
        "identity = np.eye(3)\n",
        "print(\"\\nIdentity matrix:\\n\", identity)\n",
        "full = np.full((3, 3), 7)\n",
        "print(\"\\nFull:\\n\", full)\n",
        "arange = np.arange(0, 10, 2)\n",
        "print(\"\\nArange:\\n\", arange)\n",
        "linspace = np.linspace(0, 1, 5)\n",
        "print(\"\\nLinspace:\\n\", linspace)"
      ],
      "metadata": {
        "id": "KvRylCOTT4wY"
      },
      "execution_count": null,
      "outputs": []
    },
    {
      "cell_type": "markdown",
      "source": [
        "**Βασικά Χαρακτηριστικά Πινάκων (ndarray)**"
      ],
      "metadata": {
        "id": "nQIuTUP-Uh6_"
      }
    },
    {
      "cell_type": "code",
      "source": [
        "import numpy as np\n",
        "\n",
        "arr = np.array([[1, 2, 3], [4, 5, 6]])\n",
        "\n",
        "print(\"Πίνακας:\\n\", arr)\n",
        "print(\"Διαστάσεις:\", arr.ndim)      # 2\n",
        "print(\"Σχήμα:\", arr.shape)          # (2, 3)\n",
        "print(\"Συνολικά στοιχεία:\", arr.size)  # 6\n",
        "print(\"Τύπος δεδομένων:\", arr.dtype)   # int64 (ή ανάλογα το σύστημα)\n",
        "print(\"Bytes ανά στοιχείο:\", arr.itemsize) #8\n",
        "print(\"Συνολικά bytes:\", arr.nbytes) #48"
      ],
      "metadata": {
        "id": "EnYcEceZUpyy"
      },
      "execution_count": null,
      "outputs": []
    },
    {
      "cell_type": "markdown",
      "source": [
        "***Φτιάξτε ένα δικό σας παράδειγμα!***"
      ],
      "metadata": {
        "id": "9wlAtyGBU5Gi"
      }
    },
    {
      "cell_type": "code",
      "source": [
        "#Αναμένω να προσθέσετε κώδικα!"
      ],
      "metadata": {
        "id": "mcD8EG8SU_iF"
      },
      "execution_count": null,
      "outputs": []
    },
    {
      "cell_type": "markdown",
      "source": [
        "**Δεικτοδότηση (Indexing) – παράδειγμα**"
      ],
      "metadata": {
        "id": "I-Km2YbfVXdz"
      }
    },
    {
      "cell_type": "code",
      "source": [
        "import numpy as np\n",
        "beverages = np.array(['Coffee', 'Tea', 'Milk', 'Juice', 'Water'])\n",
        "print (beverages)\n",
        "first_beverage = beverages[0]\n",
        "print(first_beverage)"
      ],
      "metadata": {
        "colab": {
          "base_uri": "https://localhost:8080/"
        },
        "id": "J6ziE3ChVZC0",
        "outputId": "7a228f39-3d8e-4dfb-fc73-61aa51c325c1"
      },
      "execution_count": null,
      "outputs": [
        {
          "output_type": "stream",
          "name": "stdout",
          "text": [
            "['Coffee' 'Tea' 'Milk' 'Juice' 'Water']\n",
            "Coffee\n"
          ]
        }
      ]
    },
    {
      "cell_type": "code",
      "source": [
        "#Διαλέξτε το αγαπημένο σας ρόφημα\n",
        "#Αναμένω να προσθέσετε κώδικα!"
      ],
      "metadata": {
        "id": "d7NsOUIGVhKb"
      },
      "execution_count": null,
      "outputs": []
    },
    {
      "cell_type": "markdown",
      "source": [
        "**Δεικτοδότηση (Indexing) – Παράδειγμα με πολλές διαστάσεις**\n",
        "\n",
        "---\n",
        "\n",
        "\n",
        "***Επιλέξετε το «Γάλα» από το δεύτερο ράφι***"
      ],
      "metadata": {
        "id": "ukRF_5QqV7VB"
      }
    },
    {
      "cell_type": "code",
      "source": [
        "import numpy as np\n",
        "shelf_layout = np.array([['Cereals', 'Pasta', 'Rice', 'Beans'],\n",
        "                      ['Coffee', 'Tea', 'Milk', 'Juice'],\n",
        "                      ['Apple', 'Banana', 'Mango', 'Peach']])\n",
        "print(shelf_layout)\n",
        "milk_position = shelf_layout[1, 2]\n",
        "print(milk_position)"
      ],
      "metadata": {
        "id": "eFYwJL2AWNh4"
      },
      "execution_count": null,
      "outputs": []
    },
    {
      "cell_type": "code",
      "source": [
        "#Διαλέξτε το αγαπημένο σας ρόφημα απο το σωστό ράφι!\n",
        "#Αναμένω να προσθέσετε κώδικα!"
      ],
      "metadata": {
        "id": "RkKnd3TeW1KD"
      },
      "execution_count": null,
      "outputs": []
    },
    {
      "cell_type": "markdown",
      "source": [
        "**Τεμαχισμός (Slicing) – Παράδειγμα**\n",
        "\n",
        "---\n",
        "\n",
        "***Ας εξαγάγουμε τα πρώτα 3 ροφήματα από τη σειρά ροφημάτων μας***"
      ],
      "metadata": {
        "id": "Jg91q-dhXCQX"
      }
    },
    {
      "cell_type": "code",
      "source": [
        "import numpy as np\n",
        "beverages = np.array(['Coffee', 'Tea', 'Milk', 'Juice', 'Water'])\n",
        "top_3_beverages = beverages[:3]\n",
        "print(top_3_beverages)"
      ],
      "metadata": {
        "id": "W7AkI9W9YQl9"
      },
      "execution_count": null,
      "outputs": []
    },
    {
      "cell_type": "markdown",
      "source": [
        "**Τεμαχισμός (Slicing) – Παράδειγμα πολλές διαστάσεις**\n",
        "\n",
        "---\n",
        "\n",
        "***Ας επιλέξουμε το 2ο ράφι***"
      ],
      "metadata": {
        "id": "eTehVJbcYpaP"
      }
    },
    {
      "cell_type": "code",
      "source": [
        "shelf_layout = np.array([['Cereals', 'Pasta', 'Rice', 'Beans'],\n",
        "                      ['Coffee', 'Tea', 'Milk', 'Juice'],\n",
        "                      ['Apple', 'Banana', 'Mango', 'Peach']])\n",
        "second_shelf = shelf_layout[1, :]\n",
        "print(second_shelf)"
      ],
      "metadata": {
        "colab": {
          "base_uri": "https://localhost:8080/"
        },
        "id": "dsSq-E0JZDhq",
        "outputId": "235c14e6-3a17-4e32-9226-be048752b7b6"
      },
      "execution_count": null,
      "outputs": [
        {
          "output_type": "stream",
          "name": "stdout",
          "text": [
            "['Coffee' 'Tea' 'Milk' 'Juice']\n"
          ]
        }
      ]
    },
    {
      "cell_type": "markdown",
      "source": [
        "***Πως θα πάρω το τρίτο ράφι***"
      ],
      "metadata": {
        "id": "s4wnJVvrZxfc"
      }
    },
    {
      "cell_type": "code",
      "source": [
        "#Αναμένω να προσθέσετε κώδικα!\n"
      ],
      "metadata": {
        "id": "TUIpSQvLZ9up"
      },
      "execution_count": null,
      "outputs": []
    },
    {
      "cell_type": "markdown",
      "source": [
        "***Πως θα πάρω τα δύο πρώτα απο το τρίτο ράφι***"
      ],
      "metadata": {
        "id": "Adyi0kdoaOve"
      }
    },
    {
      "cell_type": "code",
      "source": [
        "#Αναμένω να προσθέσετε κώδικα!\n"
      ],
      "metadata": {
        "id": "zyF_aKcfaT8f"
      },
      "execution_count": null,
      "outputs": []
    },
    {
      "cell_type": "markdown",
      "source": [
        "**Δεικτοδότηση (Indexing) – Προχωρημένες περιπτώσεις Παράδειγμα**\n",
        "\n",
        "\n",
        "---\n",
        "\n",
        "***Ας βρούμε τα ποτά που έχουν τιμή κάτω του 1€***"
      ],
      "metadata": {
        "id": "BArQq5gpa5oG"
      }
    },
    {
      "cell_type": "code",
      "source": [
        "import numpy as np\n",
        "beverages = np.array(['Coffee', 'Tea', 'Milk', 'Juice', 'Water'])\n",
        "#Initialize Prices\n",
        "prices = np.array([1.5, 1.0, 0.5, 2.0, 0.7])\n",
        "#Affordable Beverages\n",
        "cheap_beverages = beverages[prices < 1.0]\n",
        "print(cheap_beverages)"
      ],
      "metadata": {
        "id": "w3uG5goXbEbM"
      },
      "execution_count": null,
      "outputs": []
    },
    {
      "cell_type": "markdown",
      "source": [
        "**Δεικτοδότηση (Indexing) – Προχωρημένες περιπτώσεις Παράδειγμα\n",
        "2ο**\n",
        "\n",
        "\n",
        "---\n",
        "\n",
        "***Ας βρούμε τα τρόφιμα στο ράφι του παντοπωλείου που είναι φρούτα και δεν έχουμε αλλεργία (έχουμε αλλεργία στο Mango και το Peach)***"
      ],
      "metadata": {
        "id": "KX5-_VvVbh0u"
      }
    },
    {
      "cell_type": "code",
      "source": [
        "import numpy as np\n",
        "shelf_layout = np.array([['Cereals', 'Pasta', 'Rice', 'Beans'],\n",
        "                      ['Coffee', 'Tea', 'Milk', 'Juice'],\n",
        "                      ['Apple', 'Banana', 'Mango', 'Peach']])\n",
        "fruit_positions = shelf_layout[np.isin(shelf_layout, ['Apple', 'Banana'])]\n",
        "print(fruit_positions)"
      ],
      "metadata": {
        "id": "2rpjxGPab-ts"
      },
      "execution_count": null,
      "outputs": []
    },
    {
      "cell_type": "markdown",
      "source": [
        "**Δεικτοδότηση (Indexing) – Προχωρημένες περιπτώσεις Παράδειγμα\n",
        "3ο**\n",
        "\n",
        "\n",
        "---\n",
        "\n",
        "***Ας βρούμε τo πρώτο και το τελευταίο ρόφημα***"
      ],
      "metadata": {
        "id": "mHcXXh56cfQe"
      }
    },
    {
      "cell_type": "code",
      "source": [
        "import numpy as np\n",
        "beverages = np.array(['Coffee', 'Tea', 'Milk', 'Juice', 'Water'])\n",
        "#Select Beverages\n",
        "selected_beverages = beverages[[0, -1]]\n",
        "print(selected_beverages)"
      ],
      "metadata": {
        "id": "HIoNfpBNcrvd"
      },
      "execution_count": null,
      "outputs": []
    },
    {
      "cell_type": "markdown",
      "source": [
        "***Πως θα πάρω το πρώτο και το δεύτερο ρόφημα;***"
      ],
      "metadata": {
        "id": "ZjSZFvvHdGyp"
      }
    },
    {
      "cell_type": "code",
      "source": [
        "#Αναμένω να προσθέσετε κώδικα!\n"
      ],
      "metadata": {
        "id": "zJXkIooDdVK7"
      },
      "execution_count": null,
      "outputs": []
    },
    {
      "cell_type": "markdown",
      "source": [
        "**Δεικτοδότηση (Indexing) – Προχωρημένες περιπτώσεις Παράδειγμα\n",
        "4ο πολλών διαστάσεων**\n",
        "\n",
        "\n",
        "---\n",
        "\n",
        "***Ας βρούμε τo πρώτο και το τελευταίο ρόφημα***"
      ],
      "metadata": {
        "id": "61vRc6dQdfte"
      }
    },
    {
      "cell_type": "code",
      "source": [
        "import numpy as np\n",
        "shelf_layout = np.array([['Cereals', 'Pasta', 'Rice', 'Beans'],\n",
        "                      ['Coffee', 'Tea', 'Milk', 'Juice'],\n",
        "                      ['Apple', 'Banana', 'Mango', 'Peach']])\n",
        "#Select Items\n",
        "selected_items = [shelf_layout[0][0], shelf_layout[2][3]]\n",
        "print(selected_items)"
      ],
      "metadata": {
        "id": "X0M2GiI6dvjp"
      },
      "execution_count": null,
      "outputs": []
    },
    {
      "cell_type": "markdown",
      "source": [
        "**Αλλαγή διαστάσεων (reshaping)**"
      ],
      "metadata": {
        "id": "7JLrUxwye0iq"
      }
    },
    {
      "cell_type": "code",
      "source": [
        "uniform_random = np.random.rand(4, 6)\n",
        "print (uniform_random)\n",
        "print(\"---------------\")\n",
        "uniform_random = uniform_random.reshape(3, 8)\n",
        "print (uniform_random)"
      ],
      "metadata": {
        "id": "0RShL5C-egFT"
      },
      "execution_count": null,
      "outputs": []
    },
    {
      "cell_type": "code",
      "source": [
        "arr = np.array([1, 2, 3, 4, 5, 6])\n",
        "reshaped_arr = np.reshape(arr, (2, 3))\n",
        "print(\"\\nReshaped array:\\n\", reshaped_arr)"
      ],
      "metadata": {
        "colab": {
          "base_uri": "https://localhost:8080/"
        },
        "id": "x-DvJmwOe7dY",
        "outputId": "7ed4f722-b718-4ac6-8b9c-69d76cab7472"
      },
      "execution_count": null,
      "outputs": [
        {
          "output_type": "stream",
          "name": "stdout",
          "text": [
            "\n",
            "Reshaped array:\n",
            " [[1 2 3]\n",
            " [4 5 6]]\n"
          ]
        }
      ]
    },
    {
      "cell_type": "markdown",
      "source": [
        "**Συνένωση πινάκων κατά γραμμές**"
      ],
      "metadata": {
        "id": "rqn4ZhvmfHyb"
      }
    },
    {
      "cell_type": "code",
      "source": [
        "import numpy as np\n",
        "a = np.array([[1, 2], [3, 4]])\n",
        "b = np.array([[5, 6], [7, 8]])\n",
        "# Συνένωση κατά τις γραμμές (axis=0)\n",
        "c1 = np.concatenate((a, b), axis=0)\n",
        "print(c1)\n",
        "print(\"---------------\")\n",
        "# Εναλλακτικά np.vstack((a, b)) → κάθετη ένωση (σαν axis=0)\n",
        "c2 = np.vstack((a, b))\n",
        "print(c2)"
      ],
      "metadata": {
        "id": "YkwKj9qzfKJR"
      },
      "execution_count": null,
      "outputs": []
    },
    {
      "cell_type": "markdown",
      "source": [
        "**Συνένωση πινάκων κατά στήλες**"
      ],
      "metadata": {
        "id": "f62el_4Ufr4M"
      }
    },
    {
      "cell_type": "code",
      "source": [
        "import numpy as np\n",
        "a = np.array([[1, 2], [3, 4]])\n",
        "b = np.array([[5, 6], [7, 8]])\n",
        "# Συνένωση κατά τις στήλες (axis=1)\n",
        "d1 = np.concatenate((a, b), axis=1)\n",
        "print(d1)\n",
        "print(\"---------------\")\n",
        "# Εναλλακτικά np.hstack((a, b)) → οριζόντια ένωση (σαν axis=1)\n",
        "d2 = np.hstack((a, b))\n",
        "print(d2)"
      ],
      "metadata": {
        "id": "1sArFPKhfvUu"
      },
      "execution_count": null,
      "outputs": []
    },
    {
      "cell_type": "markdown",
      "source": [
        "**Διαχωρισμός  πινάκων – σε ίσα μέρη**"
      ],
      "metadata": {
        "id": "KqRPOvJmRvAj"
      }
    },
    {
      "cell_type": "code",
      "source": [
        "import numpy as np\n",
        "a = np.array([1, 2, 3, 4, 5, 6])\n",
        "\n",
        "# Χωρίζουμε σε 3 ίσα μέρη\n",
        "parts = np.split(a, 3)\n",
        "print(parts)"
      ],
      "metadata": {
        "id": "QtObOxR5R2ck"
      },
      "execution_count": null,
      "outputs": []
    },
    {
      "cell_type": "markdown",
      "source": [
        "**Διαχωρισμός  πινάκων – σε μη ίσα μέρη**"
      ],
      "metadata": {
        "id": "jmT_t4Y5SIiI"
      }
    },
    {
      "cell_type": "code",
      "source": [
        "import numpy as np\n",
        "a = np.array([1, 2, 3, 4, 5])\n",
        "\n",
        "# Χωρίζουμε σε 3 μέρη (δεν είναι ίσα, αλλά το κάνει)\n",
        "parts = np.array_split(a, 3)\n",
        "print(parts)"
      ],
      "metadata": {
        "id": "PXgAAqKTSPYa"
      },
      "execution_count": null,
      "outputs": []
    },
    {
      "cell_type": "markdown",
      "source": [
        "**Διαχωρισμός πινάκων – Οριζόντιος διαχωρισμός**\n",
        "\n",
        "\n",
        "---\n",
        "\n",
        "\n",
        "***Για 2D πίνακες μπορείς να χωρίσεις κατά γραμμές ή κατά στήλες***"
      ],
      "metadata": {
        "id": "LFqQMF_rSZre"
      }
    },
    {
      "cell_type": "code",
      "source": [
        "b = np.array([[1, 2, 3, 4],\n",
        "              [5, 6, 7, 8]])\n",
        "# Οριζόντιος διαχωρισμός (κατά γραμμές)\n",
        "top, bottom = np.vsplit(b, 2)\n",
        "print(top)\n",
        "print(\"---------------\")\n",
        "print(bottom)"
      ],
      "metadata": {
        "id": "okTOOeHzSc_m"
      },
      "execution_count": null,
      "outputs": []
    },
    {
      "cell_type": "markdown",
      "source": [
        "**Διαχωρισμός πινάκων - Κάθετος διαχωρισμός**"
      ],
      "metadata": {
        "id": "DsUaYZe9S4l4"
      }
    },
    {
      "cell_type": "code",
      "source": [
        "b = np.array([[1, 2, 3, 4],\n",
        "              [5, 6, 7, 8]])\n",
        "# Κάθετος διαχωρισμός (κατά στήλες)\n",
        "left, right = np.hsplit(b, 2)\n",
        "print(left)\n",
        "print(\"---------------\")\n",
        "print(right)"
      ],
      "metadata": {
        "id": "hP8Y86eVS8YG"
      },
      "execution_count": null,
      "outputs": []
    },
    {
      "cell_type": "markdown",
      "source": [
        "**Διαχωρισμός πινάκων - Με δείκτες (indices)**"
      ],
      "metadata": {
        "id": "8Nxqb626TD3i"
      }
    },
    {
      "cell_type": "code",
      "source": [
        "a = np.array([10, 20, 30, 40, 50, 60])\n",
        "# Διαχωρισμός στα indices 2 και 4\n",
        "parts = np.split(a, [2, 4])\n",
        "print(parts)"
      ],
      "metadata": {
        "id": "CiJRYBkfTH6j"
      },
      "execution_count": null,
      "outputs": []
    },
    {
      "cell_type": "markdown",
      "source": [
        "***Στοίβαξη (stacking) πινάκων***\n",
        "\n",
        "\n",
        "---\n",
        "\n",
        "\n",
        "\n",
        "***Στοιβάζει κατά μήκος νέου άξονα***"
      ],
      "metadata": {
        "id": "PijQvyvdTPIg"
      }
    },
    {
      "cell_type": "code",
      "source": [
        "import numpy as np\n",
        "a = np.array([1, 2, 3])\n",
        "b = np.array([4, 5, 6])\n",
        "print(\"Στοίβαξη Οριζόντια\")\n",
        "c = np.stack((a, b))\n",
        "print(c)\n",
        "print(\"Στοίβαξη Κάθετα\")\n",
        "d = np.stack((a, b), axis=1)\n",
        "print(d)"
      ],
      "metadata": {
        "id": "JVrko8plTihV"
      },
      "execution_count": null,
      "outputs": []
    },
    {
      "cell_type": "markdown",
      "source": [
        "**Στοίβαξη (stacking) πινάκων - κάθετο**"
      ],
      "metadata": {
        "id": "8KHbIMV2UK_S"
      }
    },
    {
      "cell_type": "code",
      "source": [
        "import numpy as np\n",
        "a = np.array([1, 2, 3])\n",
        "b = np.array([4, 5, 6])\n",
        "\n",
        "h = np.hstack((a, b))\n",
        "print(h)"
      ],
      "metadata": {
        "id": "XeYPaP3fUSvm"
      },
      "execution_count": null,
      "outputs": []
    },
    {
      "cell_type": "markdown",
      "source": [
        "**Στοίβαξη (stacking) πινάκων – οριζόντιο**"
      ],
      "metadata": {
        "id": "J6V6PR1yUYeY"
      }
    },
    {
      "cell_type": "code",
      "source": [
        "import numpy as np\n",
        "a = np.array([1, 2, 3])\n",
        "b = np.array([4, 5, 6])\n",
        "\n",
        "h = np.hstack((a, b))\n",
        "print(h)"
      ],
      "metadata": {
        "id": "vqdWCPglUbLt"
      },
      "execution_count": null,
      "outputs": []
    },
    {
      "cell_type": "markdown",
      "source": [
        "**Στοίβαξη (stacking) πινάκων – depth stacking**\n",
        "\n",
        "---\n",
        "\n",
        "***Στοιβάζει κατά τον τρίτο άξονα (σαν στρώσεις εικόνας)***"
      ],
      "metadata": {
        "id": "9GaMdV_gUkji"
      }
    },
    {
      "cell_type": "code",
      "source": [
        "import numpy as np\n",
        "a = np.array([1, 2, 3])\n",
        "b = np.array([4, 5, 6])\n",
        "\n",
        "d = np.dstack((a, b))\n",
        "print(d)"
      ],
      "metadata": {
        "id": "uQKglZDsUzed"
      },
      "execution_count": null,
      "outputs": []
    },
    {
      "cell_type": "markdown",
      "source": [
        "**Συναρτήσεις συνάθροισης**"
      ],
      "metadata": {
        "id": "3yARokMMVUoG"
      }
    },
    {
      "cell_type": "code",
      "source": [
        "import numpy as np\n",
        "a = np.array([[1, 2, 3],\n",
        "              [4, 5, 6]])\n",
        "print(\"Sum:\", np.sum(a))       # 21\n",
        "print(\"Min:\", np.min(a))       # 1\n",
        "print(\"Max:\", np.max(a))       # 6\n",
        "print(\"Mean:\", np.mean(a))     # 3.5\n",
        "print(\"Median:\", np.median(a)) # 3.5\n",
        "print(\"Std Dev:\", np.std(a))   # 1.707...\n",
        "print(\"Variance:\", np.var(a))  # 2.916...\n"
      ],
      "metadata": {
        "id": "yXxQa6crVBy-"
      },
      "execution_count": null,
      "outputs": []
    },
    {
      "cell_type": "markdown",
      "source": [
        "**Συναρτήσεις συνάθροισης**\n",
        "\n",
        "---\n",
        "\n",
        "***Συνάθροιση κατά άξονα***"
      ],
      "metadata": {
        "id": "CNqbCKAZVBeP"
      }
    },
    {
      "cell_type": "code",
      "source": [
        "import numpy as np\n",
        "a = np.array([[1, 2, 3],\n",
        "              [4, 5, 6]])\n",
        "print(\"Sum ανά στήλη:\", np.sum(a, axis=0))  # [5 7 9]\n",
        "print(\"Sum ανά γραμμή:\", np.sum(a, axis=1)) # [ 6 15]\n",
        "\n",
        "print(\"Max ανά στήλη:\", np.max(a, axis=0))  # [4 5 6]\n",
        "print(\"Min ανά γραμμή:\", np.min(a, axis=1)) # [1 4]"
      ],
      "metadata": {
        "id": "V8aFUAZJWEJD"
      },
      "execution_count": null,
      "outputs": []
    },
    {
      "cell_type": "markdown",
      "source": [
        "**Περισσότερες Συναρτήσεις Συνάθροισης**"
      ],
      "metadata": {
        "id": "stnRuss7WPOv"
      }
    },
    {
      "cell_type": "code",
      "source": [
        "import numpy as np\n",
        "a = np.array([[1, 2, 3],\n",
        "              [4, 5, 6]])\n",
        "print(\"Cumulative sum:\", np.cumsum(a))  # [ 1  3  6 10 15 21]\n",
        "print(\"Cumulative product:\", np.cumprod(a))  # [  1   2   6  24 120 720]\n",
        "\n",
        "print(\"Argmax:\", np.argmax(a))  # θέση του μέγιστου (5)\n",
        "print(\"Argmin:\", np.argmin(a))  # θέση του ελάχιστου (0)\n",
        "\n",
        "print(\"Unique:\", np.unique([1,2,2,3,3,3]))  # [1 2 3]"
      ],
      "metadata": {
        "id": "KgNVYnwSWTL-"
      },
      "execution_count": null,
      "outputs": []
    },
    {
      "cell_type": "markdown",
      "source": [
        "**Broadcasting**\n",
        "\n",
        "\n",
        "---\n",
        "\n",
        "***Παράδειγμα BMI***\n",
        "***BMI = weight (kg) / (height (m))^2***"
      ],
      "metadata": {
        "id": "EQ183ImlWwh1"
      }
    },
    {
      "cell_type": "code",
      "source": [
        "import numpy as np\n",
        "\n",
        "heights = np.array([170, 187, 175])\n",
        "weights = np.array([72, 83, 68])\n",
        "heights_meters = heights / 100  # Μετατρέπει τα ύψη από εκατοστά σε μέτρα\n",
        "bmi = weights / (heights_meters ** 2)\n",
        "\n",
        "print(bmi)"
      ],
      "metadata": {
        "id": "TlxqzxE0Wy4r"
      },
      "execution_count": null,
      "outputs": []
    },
    {
      "cell_type": "markdown",
      "source": [
        "**Παράδειγμα Προσθήκη μιας βαθμωτής (scalar) τιμής σε έναν πίνακα**"
      ],
      "metadata": {
        "id": "Kg9RmMntX5n1"
      }
    },
    {
      "cell_type": "code",
      "source": [
        "import numpy as np\n",
        "\n",
        "arr = np.array([1, 2, 3])\n",
        "scalar = 5\n",
        "result = arr + scalar\n",
        "print(result)"
      ],
      "metadata": {
        "id": "Bf52e4Q-X_1J"
      },
      "execution_count": null,
      "outputs": []
    },
    {
      "cell_type": "markdown",
      "source": [
        "**Πολλαπλασιασμός πινάκων με διαφορετικά σχήματα**\n",
        "\n",
        "\n",
        "---\n",
        "\n",
        "Σε αυτήν την περίπτωση, το arr2 μεταδίδεται ώστε να ταιριάζει με το σχήμα του arr1."
      ],
      "metadata": {
        "id": "5HKqP7mPYNn9"
      }
    },
    {
      "cell_type": "code",
      "source": [
        "import numpy as np\n",
        "\n",
        "arr1 = np.array([[1, 2, 3], [4, 5, 6]])\n",
        "arr2 = np.array([10, 20, 30])\n",
        "result = arr1 * arr2\n",
        "print(result)"
      ],
      "metadata": {
        "id": "Oxc89CGBYUcX"
      },
      "execution_count": null,
      "outputs": []
    },
    {
      "cell_type": "markdown",
      "source": [
        "**Τι θα συμβεί εδώ; Γιατί;**"
      ],
      "metadata": {
        "id": "gWpoCGFPYp21"
      }
    },
    {
      "cell_type": "code",
      "source": [
        "import numpy as np\n",
        "\n",
        "arr1 = np.array([1, 2, 3])\n",
        "arr2 = np.array([4, 5])\n",
        "result = arr1 + arr2\n",
        "\n",
        "print(result)"
      ],
      "metadata": {
        "id": "esERIxUZYpZ_"
      },
      "execution_count": null,
      "outputs": []
    },
    {
      "cell_type": "markdown",
      "source": [
        "**Ενώ τώρα!**"
      ],
      "metadata": {
        "id": "f8PLjJAtY-VT"
      }
    },
    {
      "cell_type": "code",
      "source": [
        "import numpy as np\n",
        "\n",
        "arr1 = np.array([[1, 2, 3], [4, 5, 6]])\n",
        "arr2 = np.array([[10], [20]])\n",
        "result = arr1 + arr2\n",
        "print(result)"
      ],
      "metadata": {
        "id": "xoDltb4YZAx3"
      },
      "execution_count": null,
      "outputs": []
    }
  ]
}